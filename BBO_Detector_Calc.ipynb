{
  "nbformat": 4,
  "nbformat_minor": 0,
  "metadata": {
    "colab": {
      "private_outputs": true,
      "provenance": [],
      "authorship_tag": "ABX9TyMc/XvdtaNF2YPqQM2vamwg",
      "include_colab_link": true
    },
    "kernelspec": {
      "name": "python3",
      "display_name": "Python 3"
    },
    "language_info": {
      "name": "python"
    }
  },
  "cells": [
    {
      "cell_type": "markdown",
      "metadata": {
        "id": "view-in-github",
        "colab_type": "text"
      },
      "source": [
        "<a href=\"https://colab.research.google.com/github/cedamusk/Astrophysics/blob/main/BBO_Detector_Calc.ipynb\" target=\"_parent\"><img src=\"https://colab.research.google.com/assets/colab-badge.svg\" alt=\"Open In Colab\"/></a>"
      ]
    },
    {
      "cell_type": "code",
      "execution_count": null,
      "metadata": {
        "id": "9ho9LmQiHfAN"
      },
      "outputs": [],
      "source": [
        "import numpy as np\n",
        "import matplotlib.pyplot as plt\n",
        "from mpl_toolkits.mplot3d import Axes3D"
      ]
    },
    {
      "cell_type": "code",
      "source": [
        "class BBODetector:\n",
        "  def __init__(self):\n",
        "    #Define the three arm vectore of the triangular configuration\n",
        "    #Assuming equilateral triangle in x-y plane\n",
        "    self.a_vec=np.array([1,0,0])\n",
        "    self.b_vec=np.array([-0.5, np.sqrt(3)/2, 0])\n",
        "    self.c_vec=np.array([-0.5, -np.sqrt(3)/2,0])\n",
        "\n",
        "    #Reference point (center of triangle)\n",
        "    self.x0=np.zeros(3)\n",
        "\n",
        "  def normalized_frequency(self, f, L=1e6):\n",
        "    \"\"\"Convert frequency to normalized frequency fn=f/(2f*)\n",
        "    where f*=1/(2pi*L) and L is arm length in meter\"\"\"\n",
        "    f_star=1/(2*np.pi*L)\n",
        "    return f/(2*f_star)\n",
        "\n",
        "  def direction_vector(self, theta, phi):\n",
        "    \"\"\"Create direction vector from spherical coordinates\"\"\"\n",
        "    return np.array([\n",
        "        np.sin(theta)*np.cos(phi),\n",
        "        np.sin(theta)*np.sin(phi),\n",
        "        np.cos(theta)\n",
        "    ])\n",
        "\n",
        "  def sinc(self, X):\n",
        "    \"\"\"Calculate sinc(x)=sin(x)/x, handling x=0 case\"\"\"\n",
        "    return np.sinc(X/np.pi) #numpy's sinc is define with pi\n",
        "\n",
        "  def T_response(self, n_hat, f_n):\n",
        "    \"\"\"Calculate TT (symmetrized Sagnac) respons\"\"\"\n",
        "    u_dot_n=np.dot(self.a_vec, n_hat) #Using a_vec as reference\n",
        "\n",
        "    phase=np.exp(-1j*f_n/3*9) #Simplified phase term\n",
        "    cos_term=(1+2 *np.cos(2*f_n))\n",
        "    sinc_diff=(self.sinc(f_n *(1+u_dot_n))-\n",
        "              self.sinc(f_n* (1-u_dot_n)))\n",
        "\n",
        "    return phase* cos_term*sinc_diff/ (6*np.sqrt(3))\n",
        "\n",
        "  def A_response(self, n_hat, f_n):\n",
        "    \"\"\"Calculate AA response for arm a\"\"\"\n",
        "    a_dot_n=np.dot(self.a_vec, n_hat)\n",
        "    bc_diff_dot_n=np.dot(self.c_vec-self.b_vec, n_hat)\n",
        "\n",
        "    phase=np.exp(-1j *f_n/3*(6+bc_diff_dot_n))\n",
        "    sin_term=-1j*np.sin(f_n)/(3*np.sqrt(2))\n",
        "    sinc_sum=(self.sinc(f_n)/(3*np.sqrt(2))+\n",
        "              np.exp(-2j*f_n)*self.sinc(f_n*(1-a_dot_n)))\n",
        "\n",
        "    return sin_term*phase*sinc_sum\n",
        "\n",
        "  def E_response(self, n_hat, f_n):\n",
        "    \"\"\"Calculate EE response for arm a\"\"\"\n",
        "    a_dot_n=np.dot(self.a_vec, n_hat)\n",
        "\n",
        "    phase=np.exp(-1j*f_n/3*6)\n",
        "    basic_term=(self.sinc(f_n*(1+a_dot_n))+\n",
        "                self.sinc(f_n*(1-a_dot_n)))\n",
        "\n",
        "    return phase*basic_term / (6*np.sqrt(6))\n",
        "\n",
        "  def calculate_response_pattern(self, f, response_type='T'):\n",
        "    \"\"\"Calculate response pattern over the sky\"\"\"\n",
        "    theta=np.linspace(0, np.pi, 100)\n",
        "    phi=np.linspace(0, 2*np.pi, 100)\n",
        "    THETA, PHI=np.meshgrid(theta, phi)\n",
        "\n",
        "    response=np.zeros_like(THETA, dtype=complex)\n",
        "    f_n=self.normalized_frequency(f)\n",
        "\n",
        "    for i in range(len(theta)):\n",
        "      for j in range(len(phi)):\n",
        "        n_hat=self.direction_vector(THETA[i, j], PHI[i, j])\n",
        "\n",
        "        if response_type==\"T\":\n",
        "          response[i, j]=self.T_response(n_hat, f_n)\n",
        "        elif response_type==\"A\":\n",
        "          response[i,j]=self.A_response(n_hat, f_n)\n",
        "        elif response_type ==\"E\":\n",
        "          response[i, j]=self.E_response(n_hat, f_n)\n",
        "\n",
        "    return THETA, PHI, np.abs(response)\n",
        "\n",
        "\n",
        "  def plot_response_pattern(self, f, response_type='T'):\n",
        "    \"\"\"Plot the response pattern in 3D\"\"\"\n",
        "    THETA, PHI, response=self.calculate_response_pattern(f, response_type)\n",
        "\n",
        "    X=np.sin(THETA)*np.cos(PHI)\n",
        "    Y=np.sin(THETA)*np.sin(PHI)\n",
        "    Z=np.cos(THETA)\n",
        "\n",
        "    fig=plt.figure(figsize=(10, 8))\n",
        "    ax=fig.add_subplot(111, projection='3d')\n",
        "\n",
        "    plot=ax.plot_surface(X,Y,Z, facecolors=plt.cm.viridis(response/response.max()))\n",
        "\n",
        "    ax.set_title(f'{response_type}Response Pattern (f={f} Hz)')\n",
        "    ax.set_xlabel(\"X\")\n",
        "    ax.set_ylabel(\"Y\")\n",
        "    ax.set_zlabel(\"Z\")\n",
        "\n",
        "    plt.colorbar(plt.cm.ScalarMappable(cmap=plt.cm.viridis), ax=ax,\n",
        "                 label=\"Normalized Response Magnitude\")\n",
        "    plt.show()\n",
        "\n",
        "\n",
        "\n"
      ],
      "metadata": {
        "id": "bGmjWepoIPsH"
      },
      "execution_count": null,
      "outputs": []
    },
    {
      "cell_type": "code",
      "source": [
        "def main():\n",
        "  detector=BBODetector()\n",
        "\n",
        "  frequencies=[0.1, 1.0, 10.0]\n",
        "  channels =['T', 'A', 'E']\n",
        "\n",
        "  for f in frequencies:\n",
        "    for channel in channels:\n",
        "      detector.plot_response_pattern(f, channel)\n",
        "\n",
        "  print(\"Response patterns plotted for all channels and frequencis\")"
      ],
      "metadata": {
        "id": "Cd-8uheiQlB3"
      },
      "execution_count": null,
      "outputs": []
    },
    {
      "cell_type": "code",
      "source": [
        "if __name__==\"__main__\":\n",
        "  main()"
      ],
      "metadata": {
        "id": "C0IPPLyMRiuD"
      },
      "execution_count": null,
      "outputs": []
    }
  ]
}