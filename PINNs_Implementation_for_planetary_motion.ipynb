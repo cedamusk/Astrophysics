{
  "cells": [
    {
      "cell_type": "markdown",
      "metadata": {
        "id": "view-in-github",
        "colab_type": "text"
      },
      "source": [
        "<a href=\"https://colab.research.google.com/github/cedamusk/Astrophysics/blob/main/PINNs_Implementation_for_planetary_motion.ipynb\" target=\"_parent\"><img src=\"https://colab.research.google.com/assets/colab-badge.svg\" alt=\"Open In Colab\"/></a>"
      ]
    },
    {
      "cell_type": "code",
      "execution_count": 37,
      "metadata": {
        "colab": {
          "base_uri": "https://localhost:8080/"
        },
        "id": "TJFflmei7rKJ",
        "outputId": "b91565c1-51f9-4bd3-8c58-13fc62629c4c"
      },
      "outputs": [
        {
          "output_type": "stream",
          "name": "stdout",
          "text": [
            "Requirement already satisfied: torch in /usr/local/lib/python3.11/dist-packages (2.5.1+cu124)\n",
            "Requirement already satisfied: numpy in /usr/local/lib/python3.11/dist-packages (1.26.4)\n",
            "Requirement already satisfied: matplotlib in /usr/local/lib/python3.11/dist-packages (3.10.0)\n",
            "Requirement already satisfied: seaborn in /usr/local/lib/python3.11/dist-packages (0.13.2)\n",
            "Requirement already satisfied: filelock in /usr/local/lib/python3.11/dist-packages (from torch) (3.17.0)\n",
            "Requirement already satisfied: typing-extensions>=4.8.0 in /usr/local/lib/python3.11/dist-packages (from torch) (4.12.2)\n",
            "Requirement already satisfied: networkx in /usr/local/lib/python3.11/dist-packages (from torch) (3.4.2)\n",
            "Requirement already satisfied: jinja2 in /usr/local/lib/python3.11/dist-packages (from torch) (3.1.5)\n",
            "Requirement already satisfied: fsspec in /usr/local/lib/python3.11/dist-packages (from torch) (2024.10.0)\n",
            "Requirement already satisfied: nvidia-cuda-nvrtc-cu12==12.4.127 in /usr/local/lib/python3.11/dist-packages (from torch) (12.4.127)\n",
            "Requirement already satisfied: nvidia-cuda-runtime-cu12==12.4.127 in /usr/local/lib/python3.11/dist-packages (from torch) (12.4.127)\n",
            "Requirement already satisfied: nvidia-cuda-cupti-cu12==12.4.127 in /usr/local/lib/python3.11/dist-packages (from torch) (12.4.127)\n",
            "Requirement already satisfied: nvidia-cudnn-cu12==9.1.0.70 in /usr/local/lib/python3.11/dist-packages (from torch) (9.1.0.70)\n",
            "Requirement already satisfied: nvidia-cublas-cu12==12.4.5.8 in /usr/local/lib/python3.11/dist-packages (from torch) (12.4.5.8)\n",
            "Requirement already satisfied: nvidia-cufft-cu12==11.2.1.3 in /usr/local/lib/python3.11/dist-packages (from torch) (11.2.1.3)\n",
            "Requirement already satisfied: nvidia-curand-cu12==10.3.5.147 in /usr/local/lib/python3.11/dist-packages (from torch) (10.3.5.147)\n",
            "Requirement already satisfied: nvidia-cusolver-cu12==11.6.1.9 in /usr/local/lib/python3.11/dist-packages (from torch) (11.6.1.9)\n",
            "Requirement already satisfied: nvidia-cusparse-cu12==12.3.1.170 in /usr/local/lib/python3.11/dist-packages (from torch) (12.3.1.170)\n",
            "Requirement already satisfied: nvidia-nccl-cu12==2.21.5 in /usr/local/lib/python3.11/dist-packages (from torch) (2.21.5)\n",
            "Requirement already satisfied: nvidia-nvtx-cu12==12.4.127 in /usr/local/lib/python3.11/dist-packages (from torch) (12.4.127)\n",
            "Requirement already satisfied: nvidia-nvjitlink-cu12==12.4.127 in /usr/local/lib/python3.11/dist-packages (from torch) (12.4.127)\n",
            "Requirement already satisfied: triton==3.1.0 in /usr/local/lib/python3.11/dist-packages (from torch) (3.1.0)\n",
            "Requirement already satisfied: sympy==1.13.1 in /usr/local/lib/python3.11/dist-packages (from torch) (1.13.1)\n",
            "Requirement already satisfied: mpmath<1.4,>=1.1.0 in /usr/local/lib/python3.11/dist-packages (from sympy==1.13.1->torch) (1.3.0)\n",
            "Requirement already satisfied: contourpy>=1.0.1 in /usr/local/lib/python3.11/dist-packages (from matplotlib) (1.3.1)\n",
            "Requirement already satisfied: cycler>=0.10 in /usr/local/lib/python3.11/dist-packages (from matplotlib) (0.12.1)\n",
            "Requirement already satisfied: fonttools>=4.22.0 in /usr/local/lib/python3.11/dist-packages (from matplotlib) (4.55.8)\n",
            "Requirement already satisfied: kiwisolver>=1.3.1 in /usr/local/lib/python3.11/dist-packages (from matplotlib) (1.4.8)\n",
            "Requirement already satisfied: packaging>=20.0 in /usr/local/lib/python3.11/dist-packages (from matplotlib) (24.2)\n",
            "Requirement already satisfied: pillow>=8 in /usr/local/lib/python3.11/dist-packages (from matplotlib) (11.1.0)\n",
            "Requirement already satisfied: pyparsing>=2.3.1 in /usr/local/lib/python3.11/dist-packages (from matplotlib) (3.2.1)\n",
            "Requirement already satisfied: python-dateutil>=2.7 in /usr/local/lib/python3.11/dist-packages (from matplotlib) (2.8.2)\n",
            "Requirement already satisfied: pandas>=1.2 in /usr/local/lib/python3.11/dist-packages (from seaborn) (2.2.2)\n",
            "Requirement already satisfied: pytz>=2020.1 in /usr/local/lib/python3.11/dist-packages (from pandas>=1.2->seaborn) (2025.1)\n",
            "Requirement already satisfied: tzdata>=2022.7 in /usr/local/lib/python3.11/dist-packages (from pandas>=1.2->seaborn) (2025.1)\n",
            "Requirement already satisfied: six>=1.5 in /usr/local/lib/python3.11/dist-packages (from python-dateutil>=2.7->matplotlib) (1.17.0)\n",
            "Requirement already satisfied: MarkupSafe>=2.0 in /usr/local/lib/python3.11/dist-packages (from jinja2->torch) (3.0.2)\n"
          ]
        }
      ],
      "source": [
        "!pip install torch numpy matplotlib seaborn"
      ]
    },
    {
      "cell_type": "code",
      "execution_count": 38,
      "metadata": {
        "id": "r0ilZGh172Kk"
      },
      "outputs": [],
      "source": [
        "import torch\n",
        "import torch.nn as nn\n",
        "import numpy as np\n",
        "import matplotlib.pyplot as plt\n",
        "from matplotlib.animation import FuncAnimation\n",
        "from IPython.display import HTML\n",
        "import seaborn as sns"
      ]
    },
    {
      "cell_type": "code",
      "execution_count": 39,
      "metadata": {
        "id": "v3eVokqq8c9t"
      },
      "outputs": [],
      "source": [
        "torch.manual_seed(42)\n",
        "np.random.seed(42)"
      ]
    },
    {
      "cell_type": "code",
      "execution_count": 40,
      "metadata": {
        "id": "yhRVOsjc8i1k"
      },
      "outputs": [],
      "source": [
        "class ImprovedPINN(nn.Module):\n",
        "  def __init__(self):\n",
        "    super().__init__()\n",
        "    #Wider network with better initialization\n",
        "    self.network=nn.Sequential(\n",
        "        nn.Linear(1, 128),\n",
        "        nn.Tanh(),\n",
        "        nn.Linear(128, 128),\n",
        "        nn.Tanh(),\n",
        "        nn.Linear(128, 128),\n",
        "        nn.Tanh(),\n",
        "        nn.Linear(128, 64),\n",
        "        nn.Tanh(),\n",
        "        nn.Linear(64, 2)\n",
        "    )\n",
        "\n",
        "    #Xavier initialization\n",
        "    for layer in self.network:\n",
        "      if isinstance(layer, nn.Linear):\n",
        "        nn.init.xavier_normal_(layer.weight)\n",
        "        nn.init.zeros_(layer.bias)\n",
        "\n",
        "  def forward(self, t):\n",
        "    return self.network(t)\n",
        "\n",
        "  def compute_derivatives(self, t):\n",
        "    t.requires_grad_(True)\n",
        "    xy=self.forward(t)\n",
        "\n",
        "    #Compute first derivaticves for both x and y components\n",
        "    dxy_dt=torch.autograd.grad(\n",
        "        xy, t,\n",
        "        grad_outputs=torch.ones_like(xy),\n",
        "        create_graph=True,\n",
        "        allow_unused=True\n",
        "    )[0]\n",
        "\n",
        "\n",
        "    #Reshape derivatives to match the expected dimensions\n",
        "    dxy_dt=dxy_dt.reshape(-1, 2)\n",
        "\n",
        "    d2xy_dt2_x=torch.autograd.grad(\n",
        "        dxy_dt[:, 0], t,\n",
        "        grad_outputs=torch.ones_like(dxy_dt[:, 0]),\n",
        "        create_graph=True,\n",
        "        allow_unused=True\n",
        "    )[0]\n",
        "\n",
        "    d2xy_dt2_y=torch.autograd.grad(\n",
        "        dxy_dt[:, 1], t,\n",
        "        grad_outputs=torch.ones_like(dxy_dt[:, 1]),\n",
        "        create_graph=True,\n",
        "        allow_unused=True\n",
        "    )\n",
        "\n",
        "    #Combine x and y components of second derivatives\n",
        "    #Check if d2xy_dt2_x or d2xy_dt2_y is a tuple (None, Tensor)\n",
        "    #and extract the Tensor elements if necessary\n",
        "\n",
        "  # FIX: Access the gradient value using index 1 if it's a tuple\n",
        "  #and has the necessary gradient at index 1, otherwise use the original values\n",
        "    d2xy_dt2=d2xy_dt2_x[1] if isinstance(d2xy_dt2_x, tuple) else d2xy_dt2_x\n",
        "    d2xy_dt2_y=d2xy_dt2_y[1] if isinstance(d2xy_dt2_y, tuple) else d2xy_dt2_y\n",
        "\n",
        "    d2xy_dt2=torch.stack([d2xy_dt2_x, d2xy_dt2_y], dim=1)\n",
        "\n",
        "    return xy, dxy_dt, d2xy_dt2"
      ]
    },
    {
      "cell_type": "code",
      "execution_count": 41,
      "metadata": {
        "id": "a_2tXQpZ-EMo"
      },
      "outputs": [],
      "source": [
        "def generate_orbital_data(n_points=1000, noise_level=0.005): #Reduced noise\n",
        "  \"\"\"Generate cleaner orbital data\"\"\"\n",
        "  t=np.linspace(0, 10, n_points)\n",
        "\n",
        "  #Orbital parameters (more stable orbit)\n",
        "  r=1.0\n",
        "  omega=2*np.pi/5\n",
        "\n",
        "  #True solution\n",
        "  x=r*np.cos(omega*t)\n",
        "  y=r*np.sin(omega*t)\n",
        "\n",
        "  #Add reduced noise\n",
        "  x+=noise_level*np.random.randn(n_points)\n",
        "  y+=noise_level*np.random.randn(n_points)\n",
        "\n",
        "  return t, x, y"
      ]
    },
    {
      "cell_type": "code",
      "execution_count": 42,
      "metadata": {
        "id": "xCDw7tsP-y6q"
      },
      "outputs": [],
      "source": [
        "def physics_loss(model, t, normalize=True):\n",
        "  \"\"\"Improved physics loss with normalization\"\"\"\n",
        "  xy, dxy_dt, d2xy_dt2=model.compute_derivatives(t)\n",
        "\n",
        "  #Gravitational parameter\n",
        "  k=4*np.pi**2\n",
        "\n",
        "  #Position vectors\n",
        "  r=torch.sqrt(xy[:, 0]**2 +xy[:, 1]**2)\n",
        "\n",
        "  #physics residuals\n",
        "  residual_x=d2xy_dt2[:, 0]+k*xy[:, 0]/ (r**3)\n",
        "  residual_y=d2xy_dt2[:, 1]+k*xy[:, 1]/ (r**3)\n",
        "\n",
        "  if normalize:\n",
        "    #Normalize residuals by the magnitude of terms\n",
        "    scale=torch.mean(torch.abs(k*xy/ (r**3).unsqueeze(1)))\n",
        "    residual_x=residual_x/ scale\n",
        "    residual_y=residual_y /scale\n",
        "\n",
        "  return torch.mean(residual_x**2+residual_y**2)\n",
        "\n"
      ]
    },
    {
      "cell_type": "code",
      "execution_count": 43,
      "metadata": {
        "id": "ZrW4LYx5B4OK"
      },
      "outputs": [],
      "source": [
        "def train_pinn(model, t_data, xy_data, n_epochs=10000):\n",
        "   #More epochs\n",
        "   \"\"\"Improved training process\"\"\"\n",
        "   optimizer=torch.optim.Adam(model.parameters(), lr=0.001)\n",
        "   scheduler=torch.optim.lr_scheduler.ReduceLROnPlateau(optimizer, 'min', patience=100, factor=0.5)\n",
        "\n",
        "   t_torch=torch.FloatTensor(t_data).reshape(-1, 1)\n",
        "   xy_torch=torch.FloatTensor(xy_data)\n",
        "\n",
        "   #Normalize data\n",
        "   xy_scale=torch.max(torch.abs(xy_torch))\n",
        "   xy_torch=xy_torch/ xy_scale\n",
        "\n",
        "   best_loss=float('inf')\n",
        "   best_state=None\n",
        "   losses=[]\n",
        "\n",
        "   for epoch in range(n_epochs):\n",
        "    optimizer.zero_grad()\n",
        "\n",
        "    xy_pred=model(t_torch)\n",
        "    data_loss=torch.mean((xy_pred-xy_torch)**2)\n",
        "    phys_loss=physics_loss(model, t_torch)\n",
        "\n",
        "    #Dynamic weighting of losses\n",
        "    physics_weight=0.01*(1-np.exp(-epoch/1000)) #Gradually increase physics weight\n",
        "    total_loss=data_loss+physics_weight* phys_loss\n",
        "\n",
        "    total_loss.backward()\n",
        "    optimizer.step()\n",
        "    scheduler.step(total_loss)\n",
        "\n",
        "    losses.append([total_loss.item(), data_loss.item(), phys_loss.item()])\n",
        "\n",
        "    #save best model\n",
        "    if total_loss.item() < best_loss:\n",
        "      best_loss=total_loss.item()\n",
        "      best_state=model.state_dict().copy()\n",
        "\n",
        "\n",
        "    if (epoch+1)% 500==0:\n",
        "      print(f'Epoch [{epoch+1}/{n_epochs}],'\n",
        "            f'Loss: {total_loss.item():.4f},'\n",
        "            f'Data Loss: {data_loss.item():.4f},'\n",
        "            f'Physics Loss: {phys_loss.item():.4f}')\n",
        "\n",
        "\n",
        "  #Restore best model\n",
        "    model.load_state_dict(best_state)\n",
        "    return np.array(losses)\n",
        "\n"
      ]
    },
    {
      "cell_type": "code",
      "execution_count": 44,
      "metadata": {
        "id": "CUYqTFcaHCDt"
      },
      "outputs": [],
      "source": [
        "def main():\n",
        "  #Generate data\n",
        "  t_data, x_data, y_data=generate_orbital_data()\n",
        "  xy_data=np.stack([x_data, y_data], axis=1)\n",
        "\n",
        "  #Create and train the model\n",
        "  model=ImprovedPINN()\n",
        "  losses=train_pinn(model, t_data, xy_data)\n",
        "\n",
        "  plot_results(model, t_data, xy_data, losses)\n",
        "\n",
        "def plot_results(model, t_data, xy_data, losses):\n",
        "\n",
        "  #plot loss\n",
        "  plt.figure(figsize=(10, 4))\n",
        "  plt.semilogy(losses[:, 0], label='Total Loss')\n",
        "  plt.semilogy(losses[:, 1], label='Data Loss')\n",
        "  plt.semilogy(losses[:, 2], label='Physics Loss')\n",
        "  plt.xlabel('Epoch')\n",
        "  plt.ylabel(\"Loss (log Scale)\")\n",
        "  plt.legend()\n",
        "  plt.grid(True)\n",
        "  plt.show()\n",
        "\n",
        "  #Evaluate predictions\n",
        "  model.eval()\n",
        "  with torch.no_grad():\n",
        "    t_torch=torch.FloatTensor(t_data).reshape(-1,1)\n",
        "    xy_pred=model(t_torch).numpy()\n",
        "\n",
        "  #plot results\n",
        "  plt.figure(figsize=(12, 5))\n",
        "  plt.subplot(121)\n",
        "  plt.plot(xy_data[:, 0], xy_data[:, 1], 'b.', label=\"Data\")\n",
        "  plt.plot(xy_pred[:, 0], xy_pred[:, 1], 'r-', label='PINN')\n",
        "  plt.plot(0, 0, 'y*', markersize=15)\n",
        "  plt.xlabel('X Position')\n",
        "  plt.ylabel('Y Position')\n",
        "  plt.legend()\n",
        "  plt.axis('equal')\n",
        "  plt.grid(True)\n",
        "\n",
        "  plt.subplot(122)\n",
        "  plt.plot(t_data, xy_data[:, 0], 'b.', label='Data X')\n",
        "  plt.plot(t_data, xy_pred[:, 0], 'r-', label='PINN X')\n",
        "  plt.xlabel('Time')\n",
        "  plt.ylabel('Position')\n",
        "  plt.legend()\n",
        "  plt.grid(True)\n",
        "  plt.show()"
      ]
    },
    {
      "cell_type": "code",
      "execution_count": 45,
      "metadata": {
        "colab": {
          "base_uri": "https://localhost:8080/",
          "height": 304
        },
        "id": "48CiFO3uhD6B",
        "outputId": "55c023c1-d1f1-4817-d158-49aa36102a90"
      },
      "outputs": [
        {
          "output_type": "error",
          "ename": "IndexError",
          "evalue": "tuple index out of range",
          "traceback": [
            "\u001b[0;31m---------------------------------------------------------------------------\u001b[0m",
            "\u001b[0;31mIndexError\u001b[0m                                Traceback (most recent call last)",
            "\u001b[0;32m<ipython-input-45-b48f8e0df241>\u001b[0m in \u001b[0;36m<cell line: 0>\u001b[0;34m()\u001b[0m\n\u001b[1;32m      1\u001b[0m \u001b[0;32mif\u001b[0m \u001b[0m__name__\u001b[0m\u001b[0;34m==\u001b[0m\u001b[0;34m\"__main__\"\u001b[0m\u001b[0;34m:\u001b[0m\u001b[0;34m\u001b[0m\u001b[0;34m\u001b[0m\u001b[0m\n\u001b[0;32m----> 2\u001b[0;31m   \u001b[0mmain\u001b[0m\u001b[0;34m(\u001b[0m\u001b[0;34m)\u001b[0m\u001b[0;34m\u001b[0m\u001b[0;34m\u001b[0m\u001b[0m\n\u001b[0m",
            "\u001b[0;32m<ipython-input-44-895f3093a89e>\u001b[0m in \u001b[0;36mmain\u001b[0;34m()\u001b[0m\n\u001b[1;32m      6\u001b[0m   \u001b[0;31m#Create and train the model\u001b[0m\u001b[0;34m\u001b[0m\u001b[0;34m\u001b[0m\u001b[0m\n\u001b[1;32m      7\u001b[0m   \u001b[0mmodel\u001b[0m\u001b[0;34m=\u001b[0m\u001b[0mImprovedPINN\u001b[0m\u001b[0;34m(\u001b[0m\u001b[0;34m)\u001b[0m\u001b[0;34m\u001b[0m\u001b[0;34m\u001b[0m\u001b[0m\n\u001b[0;32m----> 8\u001b[0;31m   \u001b[0mlosses\u001b[0m\u001b[0;34m=\u001b[0m\u001b[0mtrain_pinn\u001b[0m\u001b[0;34m(\u001b[0m\u001b[0mmodel\u001b[0m\u001b[0;34m,\u001b[0m \u001b[0mt_data\u001b[0m\u001b[0;34m,\u001b[0m \u001b[0mxy_data\u001b[0m\u001b[0;34m)\u001b[0m\u001b[0;34m\u001b[0m\u001b[0;34m\u001b[0m\u001b[0m\n\u001b[0m\u001b[1;32m      9\u001b[0m \u001b[0;34m\u001b[0m\u001b[0m\n\u001b[1;32m     10\u001b[0m   \u001b[0mplot_results\u001b[0m\u001b[0;34m(\u001b[0m\u001b[0mmodel\u001b[0m\u001b[0;34m,\u001b[0m \u001b[0mt_data\u001b[0m\u001b[0;34m,\u001b[0m \u001b[0mxy_data\u001b[0m\u001b[0;34m,\u001b[0m \u001b[0mlosses\u001b[0m\u001b[0;34m)\u001b[0m\u001b[0;34m\u001b[0m\u001b[0;34m\u001b[0m\u001b[0m\n",
            "\u001b[0;32m<ipython-input-43-ac13e710a3df>\u001b[0m in \u001b[0;36mtrain_pinn\u001b[0;34m(model, t_data, xy_data, n_epochs)\u001b[0m\n\u001b[1;32m     21\u001b[0m     \u001b[0mxy_pred\u001b[0m\u001b[0;34m=\u001b[0m\u001b[0mmodel\u001b[0m\u001b[0;34m(\u001b[0m\u001b[0mt_torch\u001b[0m\u001b[0;34m)\u001b[0m\u001b[0;34m\u001b[0m\u001b[0;34m\u001b[0m\u001b[0m\n\u001b[1;32m     22\u001b[0m     \u001b[0mdata_loss\u001b[0m\u001b[0;34m=\u001b[0m\u001b[0mtorch\u001b[0m\u001b[0;34m.\u001b[0m\u001b[0mmean\u001b[0m\u001b[0;34m(\u001b[0m\u001b[0;34m(\u001b[0m\u001b[0mxy_pred\u001b[0m\u001b[0;34m-\u001b[0m\u001b[0mxy_torch\u001b[0m\u001b[0;34m)\u001b[0m\u001b[0;34m**\u001b[0m\u001b[0;36m2\u001b[0m\u001b[0;34m)\u001b[0m\u001b[0;34m\u001b[0m\u001b[0;34m\u001b[0m\u001b[0m\n\u001b[0;32m---> 23\u001b[0;31m     \u001b[0mphys_loss\u001b[0m\u001b[0;34m=\u001b[0m\u001b[0mphysics_loss\u001b[0m\u001b[0;34m(\u001b[0m\u001b[0mmodel\u001b[0m\u001b[0;34m,\u001b[0m \u001b[0mt_torch\u001b[0m\u001b[0;34m)\u001b[0m\u001b[0;34m\u001b[0m\u001b[0;34m\u001b[0m\u001b[0m\n\u001b[0m\u001b[1;32m     24\u001b[0m \u001b[0;34m\u001b[0m\u001b[0m\n\u001b[1;32m     25\u001b[0m     \u001b[0;31m#Dynamic weighting of losses\u001b[0m\u001b[0;34m\u001b[0m\u001b[0;34m\u001b[0m\u001b[0m\n",
            "\u001b[0;32m<ipython-input-42-f44dec740461>\u001b[0m in \u001b[0;36mphysics_loss\u001b[0;34m(model, t, normalize)\u001b[0m\n\u001b[1;32m      1\u001b[0m \u001b[0;32mdef\u001b[0m \u001b[0mphysics_loss\u001b[0m\u001b[0;34m(\u001b[0m\u001b[0mmodel\u001b[0m\u001b[0;34m,\u001b[0m \u001b[0mt\u001b[0m\u001b[0;34m,\u001b[0m \u001b[0mnormalize\u001b[0m\u001b[0;34m=\u001b[0m\u001b[0;32mTrue\u001b[0m\u001b[0;34m)\u001b[0m\u001b[0;34m:\u001b[0m\u001b[0;34m\u001b[0m\u001b[0;34m\u001b[0m\u001b[0m\n\u001b[1;32m      2\u001b[0m   \u001b[0;34m\"\"\"Improved physics loss with normalization\"\"\"\u001b[0m\u001b[0;34m\u001b[0m\u001b[0;34m\u001b[0m\u001b[0m\n\u001b[0;32m----> 3\u001b[0;31m   \u001b[0mxy\u001b[0m\u001b[0;34m,\u001b[0m \u001b[0mdxy_dt\u001b[0m\u001b[0;34m,\u001b[0m \u001b[0md2xy_dt2\u001b[0m\u001b[0;34m=\u001b[0m\u001b[0mmodel\u001b[0m\u001b[0;34m.\u001b[0m\u001b[0mcompute_derivatives\u001b[0m\u001b[0;34m(\u001b[0m\u001b[0mt\u001b[0m\u001b[0;34m)\u001b[0m\u001b[0;34m\u001b[0m\u001b[0;34m\u001b[0m\u001b[0m\n\u001b[0m\u001b[1;32m      4\u001b[0m \u001b[0;34m\u001b[0m\u001b[0m\n\u001b[1;32m      5\u001b[0m   \u001b[0;31m#Gravitational parameter\u001b[0m\u001b[0;34m\u001b[0m\u001b[0;34m\u001b[0m\u001b[0m\n",
            "\u001b[0;32m<ipython-input-40-04f673125ca4>\u001b[0m in \u001b[0;36mcompute_derivatives\u001b[0;34m(self, t)\u001b[0m\n\u001b[1;32m     61\u001b[0m   \u001b[0;31m#and has the necessary gradient at index 1, otherwise use the original values\u001b[0m\u001b[0;34m\u001b[0m\u001b[0;34m\u001b[0m\u001b[0m\n\u001b[1;32m     62\u001b[0m     \u001b[0md2xy_dt2\u001b[0m\u001b[0;34m=\u001b[0m\u001b[0md2xy_dt2_x\u001b[0m\u001b[0;34m[\u001b[0m\u001b[0;36m1\u001b[0m\u001b[0;34m]\u001b[0m \u001b[0;32mif\u001b[0m \u001b[0misinstance\u001b[0m\u001b[0;34m(\u001b[0m\u001b[0md2xy_dt2_x\u001b[0m\u001b[0;34m,\u001b[0m \u001b[0mtuple\u001b[0m\u001b[0;34m)\u001b[0m \u001b[0;32melse\u001b[0m \u001b[0md2xy_dt2_x\u001b[0m\u001b[0;34m\u001b[0m\u001b[0;34m\u001b[0m\u001b[0m\n\u001b[0;32m---> 63\u001b[0;31m     \u001b[0md2xy_dt2_y\u001b[0m\u001b[0;34m=\u001b[0m\u001b[0md2xy_dt2_y\u001b[0m\u001b[0;34m[\u001b[0m\u001b[0;36m1\u001b[0m\u001b[0;34m]\u001b[0m \u001b[0;32mif\u001b[0m \u001b[0misinstance\u001b[0m\u001b[0;34m(\u001b[0m\u001b[0md2xy_dt2_y\u001b[0m\u001b[0;34m,\u001b[0m \u001b[0mtuple\u001b[0m\u001b[0;34m)\u001b[0m \u001b[0;32melse\u001b[0m \u001b[0md2xy_dt2_y\u001b[0m\u001b[0;34m\u001b[0m\u001b[0;34m\u001b[0m\u001b[0m\n\u001b[0m\u001b[1;32m     64\u001b[0m \u001b[0;34m\u001b[0m\u001b[0m\n\u001b[1;32m     65\u001b[0m     \u001b[0md2xy_dt2\u001b[0m\u001b[0;34m=\u001b[0m\u001b[0mtorch\u001b[0m\u001b[0;34m.\u001b[0m\u001b[0mstack\u001b[0m\u001b[0;34m(\u001b[0m\u001b[0;34m[\u001b[0m\u001b[0md2xy_dt2_x\u001b[0m\u001b[0;34m,\u001b[0m \u001b[0md2xy_dt2_y\u001b[0m\u001b[0;34m]\u001b[0m\u001b[0;34m,\u001b[0m \u001b[0mdim\u001b[0m\u001b[0;34m=\u001b[0m\u001b[0;36m1\u001b[0m\u001b[0;34m)\u001b[0m\u001b[0;34m\u001b[0m\u001b[0;34m\u001b[0m\u001b[0m\n",
            "\u001b[0;31mIndexError\u001b[0m: tuple index out of range"
          ]
        }
      ],
      "source": [
        "if __name__==\"__main__\":\n",
        "  main()"
      ]
    }
  ],
  "metadata": {
    "colab": {
      "provenance": [],
      "authorship_tag": "ABX9TyMIHNVIQqqBckMvCU4FR1wE",
      "include_colab_link": true
    },
    "kernelspec": {
      "display_name": "Python 3",
      "name": "python3"
    },
    "language_info": {
      "name": "python"
    }
  },
  "nbformat": 4,
  "nbformat_minor": 0
}